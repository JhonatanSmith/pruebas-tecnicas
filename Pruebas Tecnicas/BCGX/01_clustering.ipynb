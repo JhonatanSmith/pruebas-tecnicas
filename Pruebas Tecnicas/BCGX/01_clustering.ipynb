{
 "cells": [
  {
   "cell_type": "code",
   "execution_count": 1,
   "id": "d3485a17-8140-4b19-a208-1d79ef335336",
   "metadata": {},
   "outputs": [],
   "source": [
    "import pandas as pd\n",
    "from pathlib import Path"
   ]
  },
  {
   "cell_type": "code",
   "execution_count": 2,
   "id": "310fbdb1-b1c1-4d87-86cd-afe26555d32c",
   "metadata": {},
   "outputs": [],
   "source": [
    "PATH_TO_DATA = r''\n",
    "flights = pd.read_csv(Path(PATH_TO_DATA, 'cluster_case_data.csv.gz'))\n",
    "airports_mapping = pd.read_csv(Path(PATH_TO_DATA, 'L_AIRPORT_ID.csv'))\n",
    "carriers_mapping = pd.read_csv(Path(PATH_TO_DATA, 'L_CARRIER_HISTORY.csv'))"
   ]
  },
  {
   "cell_type": "markdown",
   "id": "643e694b-4fcd-4ea6-8931-c4f7829cf549",
   "metadata": {
    "deletable": false,
    "tags": []
   },
   "source": [
    "## Context\n",
    "The AIRBCG carrier group is defining a new marketing campaign for passengers called \"Embrace your flight, enjoy your life\". The campaing consist of points delivering to passengers to redeem promotions and discounts on the next purchase **considering the characteristics of the flights and destinations**. It is a loyalty and profitability campaign for the group that seeks to identify **carrier segments** and **flights** in order to define the loyalty strategy.\n",
    "\n",
    "The group hopes to identify a minimum of 4 segments and a maximum of 8 to make an investment of 500k USD in the campaign, achieving a return of 30% for the next 2 years. The campaign will be display only in the US west coast (Arizona, California, Idaho, Nevada, Oregon, Utah, Washington)\n",
    "\n",
    "## Description of the data:\n",
    "We have provided you with 12 months of AIRBCG carrier group data along with lookup tables for carriers and airports. Please Use the following questions as guidelines for your analysis. You are expected to solved and also create a cohesive business case from them.\n",
    "\n",
    "## Expected outputs: \n",
    "1. Descriptive answer for **each** question. There should be an answer for every required question.\n",
    "2. The code used\n",
    "\n",
    "**Explicitly state whether you used an LLM tool (e.g., ChatGPT)**\n",
    "\n",
    "## Hints:\n",
    "- Limit your data wrangling time. The data is already been processed to be a good starting point for this challenge\n",
    "- To answer the questions feel free to use the libraries' online documentation and/or StackOverflow\n",
    "- Make as many assumptions you consider necessary and make sure you document them in the notebook"
   ]
  },
  {
   "cell_type": "code",
   "execution_count": 3,
   "id": "9db8afd6-cc35-4b17-9f0c-7e444fa877d0",
   "metadata": {},
   "outputs": [
    {
     "data": {
      "text/html": [
       "<div>\n",
       "<style scoped>\n",
       "    .dataframe tbody tr th:only-of-type {\n",
       "        vertical-align: middle;\n",
       "    }\n",
       "\n",
       "    .dataframe tbody tr th {\n",
       "        vertical-align: top;\n",
       "    }\n",
       "\n",
       "    .dataframe thead th {\n",
       "        text-align: right;\n",
       "    }\n",
       "</style>\n",
       "<table border=\"1\" class=\"dataframe\">\n",
       "  <thead>\n",
       "    <tr style=\"text-align: right;\">\n",
       "      <th></th>\n",
       "      <th>UNIQUE_CARRIER</th>\n",
       "      <th>AIRLINE_ID</th>\n",
       "      <th>ORIGIN_AIRPORT_ID</th>\n",
       "      <th>ORIGIN_CITY_NAME</th>\n",
       "      <th>ORIGIN_STATE_NM</th>\n",
       "      <th>DEST_AIRPORT_ID</th>\n",
       "      <th>DEST_CITY_NAME</th>\n",
       "      <th>DEST_STATE_NM</th>\n",
       "      <th>CANCELLED</th>\n",
       "      <th>AIR_TIME</th>\n",
       "      <th>DISTANCE</th>\n",
       "    </tr>\n",
       "  </thead>\n",
       "  <tbody>\n",
       "    <tr>\n",
       "      <th>0</th>\n",
       "      <td>AA</td>\n",
       "      <td>19805</td>\n",
       "      <td>10423</td>\n",
       "      <td>Austin, TX</td>\n",
       "      <td>Texas</td>\n",
       "      <td>11298</td>\n",
       "      <td>Dallas/Fort Worth, TX</td>\n",
       "      <td>Texas</td>\n",
       "      <td>1.0</td>\n",
       "      <td>40.000000</td>\n",
       "      <td>190.0</td>\n",
       "    </tr>\n",
       "    <tr>\n",
       "      <th>1</th>\n",
       "      <td>AA</td>\n",
       "      <td>19805</td>\n",
       "      <td>10423</td>\n",
       "      <td>Austin, TX</td>\n",
       "      <td>Texas</td>\n",
       "      <td>11298</td>\n",
       "      <td>Dallas/Fort Worth, TX</td>\n",
       "      <td>Texas</td>\n",
       "      <td>0.0</td>\n",
       "      <td>38.875000</td>\n",
       "      <td>190.0</td>\n",
       "    </tr>\n",
       "    <tr>\n",
       "      <th>2</th>\n",
       "      <td>AA</td>\n",
       "      <td>19805</td>\n",
       "      <td>10423</td>\n",
       "      <td>Austin, TX</td>\n",
       "      <td>Texas</td>\n",
       "      <td>11298</td>\n",
       "      <td>Dallas/Fort Worth, TX</td>\n",
       "      <td>Texas</td>\n",
       "      <td>0.0</td>\n",
       "      <td>40.333333</td>\n",
       "      <td>190.0</td>\n",
       "    </tr>\n",
       "    <tr>\n",
       "      <th>3</th>\n",
       "      <td>AA</td>\n",
       "      <td>19805</td>\n",
       "      <td>10423</td>\n",
       "      <td>Austin, TX</td>\n",
       "      <td>Texas</td>\n",
       "      <td>11298</td>\n",
       "      <td>Dallas/Fort Worth, TX</td>\n",
       "      <td>Texas</td>\n",
       "      <td>0.0</td>\n",
       "      <td>37.125000</td>\n",
       "      <td>190.0</td>\n",
       "    </tr>\n",
       "    <tr>\n",
       "      <th>4</th>\n",
       "      <td>AA</td>\n",
       "      <td>19805</td>\n",
       "      <td>10423</td>\n",
       "      <td>Austin, TX</td>\n",
       "      <td>Texas</td>\n",
       "      <td>11298</td>\n",
       "      <td>Dallas/Fort Worth, TX</td>\n",
       "      <td>Texas</td>\n",
       "      <td>0.0</td>\n",
       "      <td>40.833333</td>\n",
       "      <td>190.0</td>\n",
       "    </tr>\n",
       "  </tbody>\n",
       "</table>\n",
       "</div>"
      ],
      "text/plain": [
       "  UNIQUE_CARRIER  AIRLINE_ID  ORIGIN_AIRPORT_ID ORIGIN_CITY_NAME  \\\n",
       "0             AA       19805              10423       Austin, TX   \n",
       "1             AA       19805              10423       Austin, TX   \n",
       "2             AA       19805              10423       Austin, TX   \n",
       "3             AA       19805              10423       Austin, TX   \n",
       "4             AA       19805              10423       Austin, TX   \n",
       "\n",
       "  ORIGIN_STATE_NM  DEST_AIRPORT_ID         DEST_CITY_NAME DEST_STATE_NM  \\\n",
       "0           Texas            11298  Dallas/Fort Worth, TX         Texas   \n",
       "1           Texas            11298  Dallas/Fort Worth, TX         Texas   \n",
       "2           Texas            11298  Dallas/Fort Worth, TX         Texas   \n",
       "3           Texas            11298  Dallas/Fort Worth, TX         Texas   \n",
       "4           Texas            11298  Dallas/Fort Worth, TX         Texas   \n",
       "\n",
       "   CANCELLED   AIR_TIME  DISTANCE  \n",
       "0        1.0  40.000000     190.0  \n",
       "1        0.0  38.875000     190.0  \n",
       "2        0.0  40.333333     190.0  \n",
       "3        0.0  37.125000     190.0  \n",
       "4        0.0  40.833333     190.0  "
      ]
     },
     "execution_count": 3,
     "metadata": {},
     "output_type": "execute_result"
    }
   ],
   "source": [
    "flights.head()"
   ]
  },
  {
   "cell_type": "markdown",
   "id": "2167c8f6-6403-4ed4-a8d9-7f9571417b34",
   "metadata": {
    "deletable": false,
    "editable": false,
    "tags": []
   },
   "source": [
    "- **DATE_EXP_ARRIVAL**: Time stamp for the 12hour block based on expected arrival time\n",
    "- **UNIQUE_CARRIER**: Unique Carrier Code. When the same code has been used by multiple carriers, a numeric suffix is used for earlier users, for example, PA, PA(1), PA(2). Use this field for analysis across a range of years.\n",
    "- **AIRLINE_ID**: An identification number assigned by US DOT to identify a unique airline (carrier). A unique airline (carrier) is defined as one holding and reporting under the same DOT certificate regardless of its Code, Name, or holding company/corporation\n",
    "- **ORIGIN_AIRPORT_ID**: Origin Airport, Airport ID. An identification number assigned by US DOT to identify a unique airport. Use this field for airport analysis across a range of years because an airport can change its airport code and airport codes can be reused\n",
    "- **ORIGIN_CITY_NAME**: Origin Airport, City Name\n",
    "- **ORIGIN_STATE_NM**: Origin Airport, State Name\n",
    "- **DEST_AIRPORT_ID**: Destination Airport, Airport ID. An identification number assigned by US DOT to identify a unique airport. Use this field for airport analysis across a range of years because an airport can change its airport code and airport codes can be reused\n",
    "- **DEST_CITY_NAME**: Destination Airport, City Name\n",
    "- **DEST_STATE_NM**: Destination Airport, State Name\n",
    "- **CANCELLED**: Number of cancelled flights in the 12hrs block\n",
    "- **AIR_TIME**: Average air time between origin and destinition\n",
    "- **DISTANCE**: Average distance in miles between origin and destination\n",
    "- **TOTAL_EXPECTED_FLIGHTS**: Number of expected flights in the 12hrs block\n",
    "- **TOTAL_DELAYED_FLIGHTS**: Number of delayed flights in the 12hrs block\n"
   ]
  },
  {
   "cell_type": "markdown",
   "id": "a0a71ff0-ab27-478f-8360-540c02ba1b8d",
   "metadata": {},
   "source": [
    "-----------------------------"
   ]
  },
  {
   "cell_type": "markdown",
   "id": "7c61edc9",
   "metadata": {
    "tags": []
   },
   "source": [
    "#### Question 1\n",
    "How would you approach the problem to define the group's loyalty strategy? Provide 3-5 assumptions or elements you would like to discuss with your team."
   ]
  },
  {
   "cell_type": "code",
   "execution_count": null,
   "id": "e1a015cc-15d5-495a-893e-7d2475cb2e1c",
   "metadata": {},
   "outputs": [],
   "source": []
  },
  {
   "cell_type": "markdown",
   "id": "12ebf049-afae-4d66-93b4-2d05f887c3f5",
   "metadata": {
    "tags": []
   },
   "source": [
    "#### Question 2\n",
    "How many segments would you recommend to have so the marketing team can work on the campaign implementation? Make sure you explicitly show the criteria used to define the optimal number of segments"
   ]
  },
  {
   "cell_type": "code",
   "execution_count": null,
   "id": "bb617e3c-e913-4dc0-9cdf-b5167cdbd218",
   "metadata": {},
   "outputs": [],
   "source": []
  },
  {
   "cell_type": "markdown",
   "id": "535dc3b1-18de-418a-b3ff-b064bdfec370",
   "metadata": {
    "deletable": false,
    "editable": false,
    "tags": []
   },
   "source": [
    "#### Question 3\n",
    "Give a brief description of the most representative segment on which the Marketing Manager should focus his attention.\n",
    "\n",
    "*Feel free to make the necesary assumptions about what \"representative segment\" mean*"
   ]
  },
  {
   "cell_type": "code",
   "execution_count": null,
   "id": "fd24bb4a-de45-4f84-8465-d2b6cb99c865",
   "metadata": {},
   "outputs": [],
   "source": []
  },
  {
   "cell_type": "markdown",
   "id": "ca810adc-ec13-433c-a5cd-925747f919d9",
   "metadata": {
    "deletable": false,
    "tags": []
   },
   "source": [
    "#### Question 4\n",
    "How would you measure the impact and assertiveness of the solution you propose?\n",
    "\n",
    "*Feel free to make the necessary assumptions (e.g., propose a way of testing the most representative segment is actually relevant)*"
   ]
  },
  {
   "cell_type": "code",
   "execution_count": null,
   "id": "c317a0ca-e220-4487-a0f5-c160444ce8ff",
   "metadata": {},
   "outputs": [],
   "source": []
  }
 ],
 "metadata": {
  "deletable": false,
  "editable": false,
  "kernelspec": {
   "display_name": "Python 3 (ipykernel)",
   "language": "python",
   "name": "python3"
  },
  "language_info": {
   "codemirror_mode": {
    "name": "ipython",
    "version": 3
   },
   "file_extension": ".py",
   "mimetype": "text/x-python",
   "name": "python",
   "nbconvert_exporter": "python",
   "pygments_lexer": "ipython3",
   "version": "3.12.2"
  },
  "trusted": true
 },
 "nbformat": 4,
 "nbformat_minor": 5
}
