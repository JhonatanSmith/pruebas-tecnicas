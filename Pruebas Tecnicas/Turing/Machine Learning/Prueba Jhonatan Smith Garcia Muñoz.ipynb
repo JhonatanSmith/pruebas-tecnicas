{
 "cells": [
  {
   "cell_type": "code",
   "execution_count": 16,
   "metadata": {},
   "outputs": [
    {
     "name": "stdout",
     "output_type": "stream",
     "text": [
      "el N introducido es: 100\n",
      "Suma de la sucesion: 0\n",
      "La sucesion es: [17, 10, 18, 11, 19, 12, 20, 13]\n",
      "La suma es 103\n"
     ]
    }
   ],
   "source": [
    "# Algoritmo que genere los de la siguietne sucesion:\n",
    "\n",
    "# Hasta que la suma de ellos supere el valor de N\n",
    "# ESTE ES EL CODIGO BORRARDOR PARA ENENDER EJERCICIO\n",
    "n = int(input(\"Inserte el número N: \"))\n",
    "print(\"el N introducido es:\", n)\n",
    "sucesion = [17]\n",
    "suma = 0\n",
    "\n",
    "# matematicamente, sum(a_n) siempre será menor que len(n): Esto tiene sentido entonces por esto se puede usar un for hasta n iteraciones\n",
    "for i in range(1, n):\n",
    "    if i % 2 == 0:\n",
    "        sucesion.append(sucesion[-1] + 8)\n",
    "        suma += sucesion[-1]\n",
    "        if suma >n: \n",
    "            print(\"Suma de la sucesion: {}\".format(sum))\n",
    "            break\n",
    "    else:\n",
    "        sucesion.append(sucesion[-1] - 7)\n",
    "        suma += sucesion[-1]\n",
    "        if suma >n: \n",
    "            print(\"Suma de la sucesion: {}\".format(sum))\n",
    "            break\n",
    "print(\"La sucesion es:\", sucesion)\n",
    "print(\"La suma es\", suma)\n"
   ]
  },
  {
   "cell_type": "code",
   "execution_count": 27,
   "metadata": {},
   "outputs": [
    {
     "name": "stdout",
     "output_type": "stream",
     "text": [
      "Término 1: 17\n",
      "Término 2: 10\n",
      "Término 3: 18\n",
      "Término 4: 11\n",
      "Término 5: 19\n",
      "Término 6: 12\n",
      "Término 7: 20\n",
      "Término 8: 13\n",
      "La suma es 120\n"
     ]
    }
   ],
   "source": [
    "# RESPUESTA DFINAL\n",
    "def generar_sucesion(N):\n",
    "    sucesion = [17, 10, 18, 11, 19, 12, 20, 13]\n",
    "    suma = 0\n",
    "    i = 0\n",
    "\n",
    "    while suma <= N and i < len(sucesion):\n",
    "        termino = sucesion[i]\n",
    "        suma += termino\n",
    "        print(f\"Término {i + 1}: {termino}\")\n",
    "        i += 1\n",
    "\n",
    "    print(\"La suma es {}\".format(suma))\n",
    "\n",
    "valor_N = int(input(\"Ingrese N: \"))\n",
    "generar_sucesion(valor_N)\n"
   ]
  }
 ],
 "metadata": {
  "kernelspec": {
   "display_name": "Python 3",
   "language": "python",
   "name": "python3"
  },
  "language_info": {
   "codemirror_mode": {
    "name": "ipython",
    "version": 3
   },
   "file_extension": ".py",
   "mimetype": "text/x-python",
   "name": "python",
   "nbconvert_exporter": "python",
   "pygments_lexer": "ipython3",
   "version": "3.12.1"
  }
 },
 "nbformat": 4,
 "nbformat_minor": 2
}
