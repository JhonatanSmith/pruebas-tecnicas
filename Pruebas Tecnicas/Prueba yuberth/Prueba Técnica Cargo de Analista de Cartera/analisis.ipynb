{
 "cells": [
  {
   "cell_type": "code",
   "execution_count": 1,
   "metadata": {},
   "outputs": [],
   "source": [
    "import pandas as pd\n",
    "import numpy as np"
   ]
  },
  {
   "cell_type": "code",
   "execution_count": 3,
   "metadata": {},
   "outputs": [
    {
     "data": {
      "text/html": [
       "<div>\n",
       "<style scoped>\n",
       "    .dataframe tbody tr th:only-of-type {\n",
       "        vertical-align: middle;\n",
       "    }\n",
       "\n",
       "    .dataframe tbody tr th {\n",
       "        vertical-align: top;\n",
       "    }\n",
       "\n",
       "    .dataframe thead th {\n",
       "        text-align: right;\n",
       "    }\n",
       "</style>\n",
       "<table border=\"1\" class=\"dataframe\">\n",
       "  <thead>\n",
       "    <tr style=\"text-align: right;\">\n",
       "      <th></th>\n",
       "      <th></th>\n",
       "      <th>Recaudo;Semana;Venta;Cons;Grupos;Festivo;Ing;Egr;Ped;NS;OP</th>\n",
       "    </tr>\n",
       "  </thead>\n",
       "  <tbody>\n",
       "    <tr>\n",
       "      <th>11281867;1;10202335;0</th>\n",
       "      <th>5582;6;2;773;6444;21136;0</th>\n",
       "      <td>752;192</td>\n",
       "    </tr>\n",
       "    <tr>\n",
       "      <th>8771003;2;10348824;0</th>\n",
       "      <th>5765;8;2;1453;11660;31072;0</th>\n",
       "      <td>7197;181</td>\n",
       "    </tr>\n",
       "    <tr>\n",
       "      <th>10975992;3;12343136;0</th>\n",
       "      <th>7158;10;1;2618;11376;36276;0</th>\n",
       "      <td>9598;294</td>\n",
       "    </tr>\n",
       "    <tr>\n",
       "      <th>9333463;4;9060492;0</th>\n",
       "      <th>5991;10;1;2574;8388;33235;0</th>\n",
       "      <td>7299;233</td>\n",
       "    </tr>\n",
       "    <tr>\n",
       "      <th>10200774;5;9664874;0</th>\n",
       "      <th>8001;8;1;4617;6155;34696;0</th>\n",
       "      <td>9502;293</td>\n",
       "    </tr>\n",
       "  </tbody>\n",
       "</table>\n",
       "</div>"
      ],
      "text/plain": [
       "                                                   Recaudo;Semana;Venta;Cons;Grupos;Festivo;Ing;Egr;Ped;NS;OP\n",
       "11281867;1;10202335;0 5582;6;2;773;6444;21136;0                                               752;192        \n",
       "8771003;2;10348824;0  5765;8;2;1453;11660;31072;0                                            7197;181        \n",
       "10975992;3;12343136;0 7158;10;1;2618;11376;36276;0                                           9598;294        \n",
       "9333463;4;9060492;0   5991;10;1;2574;8388;33235;0                                            7299;233        \n",
       "10200774;5;9664874;0  8001;8;1;4617;6155;34696;0                                             9502;293        "
      ]
     },
     "execution_count": 3,
     "metadata": {},
     "output_type": "execute_result"
    }
   ],
   "source": [
    "df_train = pd.read_csv(\"datos_train.csv\")\n",
    "df_train.head()"
   ]
  }
 ],
 "metadata": {
  "kernelspec": {
   "display_name": "Python 3",
   "language": "python",
   "name": "python3"
  },
  "language_info": {
   "codemirror_mode": {
    "name": "ipython",
    "version": 3
   },
   "file_extension": ".py",
   "mimetype": "text/x-python",
   "name": "python",
   "nbconvert_exporter": "python",
   "pygments_lexer": "ipython3",
   "version": "3.12.2"
  }
 },
 "nbformat": 4,
 "nbformat_minor": 2
}
