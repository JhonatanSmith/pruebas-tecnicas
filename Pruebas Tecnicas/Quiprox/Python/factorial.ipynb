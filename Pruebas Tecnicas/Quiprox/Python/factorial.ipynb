{
 "cells": [
  {
   "cell_type": "markdown",
   "metadata": {},
   "source": [
    "# El factorial de un numero n\n",
    "\n",
    "Calcule el factorial de un numero dado"
   ]
  },
  {
   "cell_type": "code",
   "execution_count": 8,
   "metadata": {},
   "outputs": [
    {
     "data": {
      "text/plain": [
       "15511210043330985984000000"
      ]
     },
     "execution_count": 8,
     "metadata": {},
     "output_type": "execute_result"
    }
   ],
   "source": [
    "def extraLongFactorialsn(n):\n",
    "    contador = 1\n",
    "    if type(n) != int:\n",
    "        print(\"Number not an intger!!\")\n",
    "    else:\n",
    "        for numero in range(1,n+1):\n",
    "            contador = contador*numero\n",
    "            numero +=1\n",
    "    return(contador)\n",
    "extraLongFactorialsn(25)"
   ]
  },
  {
   "cell_type": "markdown",
   "metadata": {},
   "source": [
    "# Organizando los contenedores:\n"
   ]
  },
  {
   "cell_type": "code",
   "execution_count": 9,
   "metadata": {},
   "outputs": [
    {
     "name": "stdout",
     "output_type": "stream",
     "text": [
      "Impossible\n",
      "Impossible\n"
     ]
    }
   ],
   "source": [
    "#!/bin/python3\n",
    "\n",
    "import sys\n",
    "\n",
    "# Lee la cantidad de consultas\n",
    "q = int(input().strip())\n",
    "\n",
    "# Para cada consulta\n",
    "for a0 in range(q):\n",
    "    # Lee la cantidad de contenedores\n",
    "    n = int(input().strip())\n",
    "    \n",
    "    # Inicializa matrices y listas\n",
    "    M = []  # Matriz para almacenar la distribución de bolas en los contenedores\n",
    "    cont_cap = []  # Lista para almacenar la suma de las capacidades de los contenedores\n",
    "    type_count = [0]*n  # Lista para almacenar la cantidad de bolas por tipo\n",
    "\n",
    "    # Lee la distribución de bolas en cada contenedor\n",
    "    for M_i in range(n):\n",
    "        M_t = [int(M_temp) for M_temp in input().strip().split(' ')]\n",
    "        \n",
    "        # Actualiza las listas type_count y cont_cap\n",
    "        type_count = [a + b for a, b in zip(type_count, M_t)]\n",
    "        cont_cap.append(sum(M_t))\n",
    "        \n",
    "        # Agrega la distribución de bolas a la matriz M\n",
    "        M.append(M_t)\n",
    "\n",
    "    # Ordena las listas type_count y cont_cap\n",
    "    type_count.sort()\n",
    "    cont_cap.sort()\n",
    "\n",
    "    # Verifica si las listas ordenadas son iguales\n",
    "    if all([a == b for a, b in zip(type_count, cont_cap)]):\n",
    "        # Si son iguales, es posible organizar las bolas según las reglas\n",
    "        print('Possible')\n",
    "    else:\n",
    "        # Si no son iguales, no es posible organizar las bolas según las reglas\n",
    "        print('Impossible')\n",
    "\n"
   ]
  },
  {
   "cell_type": "code",
   "execution_count": 11,
   "metadata": {},
   "outputs": [
    {
     "name": "stdout",
     "output_type": "stream",
     "text": [
      "Impossible\n",
      "Possible\n"
     ]
    }
   ],
   "source": [
    "def organize_balls(q, queries):\n",
    "    for query in queries:\n",
    "        n = query[0]\n",
    "        M = query[1:]\n",
    "\n",
    "        cont_cap = [sum(container) for container in M]\n",
    "        type_count = [sum(x) for x in zip(*M)]\n",
    "\n",
    "        type_count.sort()\n",
    "        cont_cap.sort()\n",
    "\n",
    "        if type_count == cont_cap:\n",
    "            print('Possible')\n",
    "        else:\n",
    "            print('Impossible')\n",
    "\n",
    "if __name__ == \"__main__\":\n",
    "    q = int(input().strip())\n",
    "    queries = []\n",
    "\n",
    "    for _ in range(q):\n",
    "        n = int(input().strip())\n",
    "        M = [list(map(int, input().strip().split())) for _ in range(n)]\n",
    "        queries.append([n] + M)\n",
    "\n",
    "    organize_balls(q, queries)"
   ]
  },
  {
   "cell_type": "code",
   "execution_count": 12,
   "metadata": {},
   "outputs": [
    {
     "name": "stdout",
     "output_type": "stream",
     "text": [
      "Impossible\n"
     ]
    }
   ],
   "source": [
    "\n",
    "\n",
    "\n"
   ]
  }
 ],
 "metadata": {
  "kernelspec": {
   "display_name": "Python 3",
   "language": "python",
   "name": "python3"
  },
  "language_info": {
   "codemirror_mode": {
    "name": "ipython",
    "version": 3
   },
   "file_extension": ".py",
   "mimetype": "text/x-python",
   "name": "python",
   "nbconvert_exporter": "python",
   "pygments_lexer": "ipython3",
   "version": "3.11.3"
  }
 },
 "nbformat": 4,
 "nbformat_minor": 2
}
